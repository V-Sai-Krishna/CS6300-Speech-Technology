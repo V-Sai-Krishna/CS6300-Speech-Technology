{
 "cells": [
  {
   "cell_type": "code",
   "execution_count": 1,
   "metadata": {},
   "outputs": [],
   "source": [
    "import numpy as np\n",
    "import os\n",
    "from scipy.spatial.distance import cdist\n",
    "from scipy.spatial import distance"
   ]
  },
  {
   "cell_type": "code",
   "execution_count": 93,
   "metadata": {},
   "outputs": [
    {
     "name": "stdout",
     "output_type": "stream",
     "text": [
      "['mklr0', 'mdlc0', 'mjlb0', 'flja0', 'mbcg0', 'mcdc0', 'feme0', 'mkah0', 'mbar0', 'mpeb0', 'fgmb0', 'mpgr0', 'mcew0', 'fmbg0', 'fjrb0', 'mhmg0', 'mwsh0', 'flod0', 'mcef0', 'mmdm0', 'fcrz0', 'mhrm0', 'fskc0', 'mprb0', 'mtwh1', 'mtjg0', 'makr0', 'mmam0', 'mdem0', 'milb0', 'mdlr0', 'mcss0', 'fjrp1', 'mjls0', 'mjjb0', 'mtat0', 'mtrc0', 'mesg0', 'mwgr0', 'fjsp0', 'fmah1', 'mntw0', 'fcaj0', 'mtjm0', 'fear0', 'mhmr0', 'mhit0', 'mlbc0', 'mclm0', 'mrbc0', 'fgcs0', 'fskp0', 'mkes0', 'fljd0', 'fklh0', 'fdnc0', 'mjjj0', 'freh0', 'mtrr0', 'mmcc0', 'mgar0', 'fmkf0', 'fpab1', 'mrcw0', 'mrso0', 'fsrh0', 'mjmm0', 'mbml0', 'fpaz0', 'msrg0', 'medr0', 'mgsh0', 'mwac0', 'mjxa0', 'fbmj0', 'fkaa0', 'mwem0', 'mjbg0', 'fbmh0', 'fsgf0', 'mrdm0', 'mtlc0', 'maeb0', 'frjb0', 'mdlm0', 'mcth0', 'mrds0', 'mmsm0', 'mrwa0', 'mdlc1', 'mjrk0', 'fskl0', 'mpfu0', 'mprk0', 'fgrw0', 'fjlr0', 'mkls0', 'fsak0', 'fdaw0', 'mwsb0', 'mdks0', 'mctm0', 'fjdm2', 'fjxm0', 'mbth0', 'mdcd0', 'mses0', 'mmws1', 'msem1', 'mesj0', 'mmvp0', 'msmr0', 'mppc0', 'mmjb1', 'mrws0', 'mrfl0', 'fceg0', 'fexm0', 'mlel0', 'mbma0', 'mdns0', 'mchl0', 'mreh1', 'mrfk0', 'fhxs0', 'mrjm0', 'mkdt0', 'fsjw0', 'mdac0', 'fdas1', 'mcae0', 'mjdc0', 'msfv0', 'mtmt0', 'mljc0', 'mgrl0', 'mzmb0', 'mrms0', 'makb0', 'mjpm0', 'fljg0', 'mmgk0', 'mdss0', 'mdps0', 'mfmc0', 'msvs0', 'fssb0', 'mrmh0', 'marc0', 'fsjk1', 'fmjb0', 'fcjs0', 'fmmh0', 'fsjs0', 'mdss1', 'flmk0', 'mpsw0', 'fcmg0', 'mejs0', 'msdh0', 'mfwk0', 'fpad0', 'fnkl0', 'fntb0', 'mmag0', 'mcdd0', 'mgrp0', 'mjrg0', 'mtpr0', 'mprd0', 'madd0', 'fvfb0', 'mjmd0', 'mbjv0', 'fapb0', 'fvkb0', 'mmar0', 'flet0', 'mnet0', 'mdlr1', 'mwrp0', 'mjra0', 'mcpm0', 'mdlh0', 'mrsp0', 'mmgc0', 'mclk0', 'fjen0', 'mjws0', 'mrjh0', 'mrlj0', 'fcdr1', 'mmws0', 'mtmn0', 'mlsh0', 'fjxp0', 'mrjb1', 'fdtd0', 'mkln0', 'mtdb0']\n"
     ]
    }
   ],
   "source": [
    "speakernames=[]\n",
    "f=open(\"team_8.txt\",'r')\n",
    "for i in f:\n",
    "    c=i.replace(\"│\\xa0\\xa0 ├── \",\"\").replace(\"\\n\",\"\").replace(\"│\\xa0\\xa0 └── \",\"\")\n",
    "    speakernames.append(c)\n",
    "print(speakernames)"
   ]
  },
  {
   "cell_type": "code",
   "execution_count": 100,
   "metadata": {},
   "outputs": [],
   "source": [
    "os.chdir(\"/home/saik/Semester 6/CS6300/Mini Project 1/FeatureExtractionSample\")\n",
    "for speaker in speakernames:\n",
    "    i=0\n",
    "    dire=\"/home/saik/Semester 6/CS6300/Mini Project 1/ntimit/ntimit_train/\"+speaker\n",
    "    for file in os.listdir(dire):\n",
    "        if file.endswith('.wav') and i<=5:\n",
    "            destfol=\"/home/saik/Semester 6/CS6300/Mini Project 1/SpeakerFeatures/ntimidtrain/\"+speaker\n",
    "            dest=destfol+\"/\"+file.replace(\".wav\",\"\")+\".mfcc\"\n",
    "            if not os.path.exists(destfol):\n",
    "                os.makedirs(destfol)\n",
    "            command='./ComputeFeatures mfcc.config '+\"\\\"\"+dire+\"/\"+file+\"\\\" \"+'frameCepstrum+frameDeltaCepstrum '+\"\\\"\"+dest+\"\\\" \"+'0.06 A'            \n",
    "            os.system(command)\n",
    "            i+=1\n",
    "        elif file.endswith('.wav') and i>5:\n",
    "            destfol=\"/home/saik/Semester 6/CS6300/Mini Project 1/SpeakerFeatures/ntimidtest/\"+speaker\n",
    "            dest=destfol+\"/\"+file.replace(\".wav\",\"\")+\".mfcc\"\n",
    "            if not os.path.exists(destfol):\n",
    "                os.makedirs(destfol)\n",
    "            command='./ComputeFeatures mfcc.config '+\"\\\"\"+dire+\"/\"+file+\"\\\" \"+'frameCepstrum+frameDeltaCepstrum '+\"\\\"\"+dest+\"\\\" \"+'0.06 A'            \n",
    "            os.system(command)\n",
    "\n",
    "for speaker in speakernames:\n",
    "    i=0\n",
    "    dire=\"/home/saik/Semester 6/CS6300/Mini Project 1/timit/timit_train/\"+speaker\n",
    "    for file in os.listdir(dire):\n",
    "        if file.endswith('.wav') and i<=5:\n",
    "            destfol=\"/home/saik/Semester 6/CS6300/Mini Project 1/SpeakerFeatures/timidtrain/\"+speaker\n",
    "            dest=destfol+\"/\"+file.replace(\".wav\",\"\")+\".mfcc\"\n",
    "            if not os.path.exists(destfol):\n",
    "                os.makedirs(destfol)\n",
    "            command='./ComputeFeatures mfcc.config '+\"\\\"\"+dire+\"/\"+file+\"\\\" \"+'frameCepstrum+frameDeltaCepstrum '+\"\\\"\"+dest+\"\\\" \"+'0.06 A'            \n",
    "            os.system(command)\n",
    "            i+=1\n",
    "        elif file.endswith('.wav') and i>5:\n",
    "            destfol=\"/home/saik/Semester 6/CS6300/Mini Project 1/SpeakerFeatures/timidtest/\"+speaker\n",
    "            dest=destfol+\"/\"+file.replace(\".wav\",\"\")+\".mfcc\"\n",
    "            if not os.path.exists(destfol):\n",
    "                os.makedirs(destfol)\n",
    "            command='./ComputeFeatures mfcc.config '+\"\\\"\"+dire+\"/\"+file+\"\\\" \"+'frameCepstrum+frameDeltaCepstrum '+\"\\\"\"+dest+\"\\\" \"+'0.06 A'            \n",
    "            os.system(command)"
   ]
  },
  {
   "cell_type": "code",
   "execution_count": 101,
   "metadata": {},
   "outputs": [],
   "source": [
    "si=1\n",
    "for speaker in speakernames:\n",
    "    fol=\"/home/saik/Semester 6/CS6300/Mini Project 1/SpeakerFeatures/timidtrain/\"+speaker\n",
    "    newfile=\"/home/saik/Semester 6/CS6300/Mini Project 1/SpeakerFeatures/train/\"+str(si)+\".mfcc\"\n",
    "    si+=1\n",
    "    w=open(newfile,'w')\n",
    "    for file in os.listdir(fol):\n",
    "        fn=fol+\"/\"+file\n",
    "        f=open(fn,\"r\")\n",
    "        i=0\n",
    "        for line in f:\n",
    "            if(i==0):\n",
    "                i=1\n",
    "            else:\n",
    "                w.write(line)\n",
    "        f.close()\n",
    "    w.close() \n",
    "\n",
    "si=1\n",
    "for speaker in speakernames:\n",
    "    fol=\"/home/saik/Semester 6/CS6300/Mini Project 1/SpeakerFeatures/ntimidtrain/\"+speaker\n",
    "    newfile=\"/home/saik/Semester 6/CS6300/Mini Project 1/SpeakerFeatures/train/\"+str(si)+\".mfcc\"\n",
    "    si+=1\n",
    "    w=open(newfile,'a')\n",
    "    for file in os.listdir(fol):\n",
    "        fn=fol+\"/\"+file\n",
    "        f=open(fn,\"r\")\n",
    "        i=0\n",
    "        for line in f:\n",
    "            if(i==0):\n",
    "                i=1\n",
    "            else:\n",
    "                w.write(line)\n",
    "        f.close()\n",
    "    w.close() "
   ]
  },
  {
   "cell_type": "code",
   "execution_count": 493,
   "metadata": {},
   "outputs": [],
   "source": [
    "traindata=[]\n",
    "noofgaussians=20\n",
    "for i in range(1,201):\n",
    "    onespeaker=[]\n",
    "    file=\"/home/saik/Semester 6/CS6300/Mini Project 1/SpeakerFeatures/train/\"+str(i)+\".mfcc\"\n",
    "    f=open(file,'r')\n",
    "    for line in f:\n",
    "        a=line.split()\n",
    "        a = list(map(float, a)) \n",
    "        onespeaker.append(a)\n",
    "    traindata.append(np.asarray(onespeaker))\n",
    "    f.close()\n",
    "    if(np.isnan(onespeaker).any()==1):\n",
    "        print(len(onespeaker))"
   ]
  },
  {
   "cell_type": "code",
   "execution_count": 494,
   "metadata": {},
   "outputs": [],
   "source": [
    "def vqinitializer(speaker):\n",
    "    weights=np.zeros((noofgaussians))\n",
    "    means=np.zeros((noofgaussians,38))\n",
    "    var=np.zeros((noofgaussians,38,38))\n",
    "    for i in range(speaker.shape[1]):\n",
    "        means[:,i]=np.random.uniform(np.amin(speaker[:,i]),np.amax(speaker[:,i]),noofgaussians)\n",
    "        \n",
    "    for iter in range(10):\n",
    "        edist=np.zeros((speaker.shape[0],1))\n",
    "        for i in range(speaker.shape[0]):\n",
    "            dist=np.zeros((noofgaussians,1))\n",
    "            for j in range((means.shape[0])):\n",
    "                dist[j]=np.linalg.norm(speaker[i]-means[j])\n",
    "            edist[i]=np.argmin(dist)\n",
    "\n",
    "        for i in range(means.shape[0]):\n",
    "            varlist=[]\n",
    "            nsum=0\n",
    "            nop=0\n",
    "            for j in range(edist.shape[0]):\n",
    "                if(edist[j]==i):\n",
    "                    nsum+=speaker[j]\n",
    "                    nop+=1\n",
    "                    if(iter==9):\n",
    "                        weights[i]+=1\n",
    "                        varlist.append(np.ndarray.tolist(speaker[j]))\n",
    "            if(iter==9):\n",
    "                vararr=np.asarray(varlist)\n",
    "                if(vararr.shape[0]!=0):\n",
    "                    var[i]=np.diag(np.var(vararr,0))\n",
    "                else:\n",
    "                    var[i]=np.eye(38)\n",
    "            if(nop!=0):\n",
    "                means[i]=nsum/nop \n",
    "    weights=weights/np.sum(weights)\n",
    "    return weights,means,var"
   ]
  },
  {
   "cell_type": "code",
   "execution_count": 521,
   "metadata": {},
   "outputs": [],
   "source": [
    "def gaussian(inp,mean,variance):\n",
    "    output=np.zeros((len(mean),len(inp)))\n",
    "    for i in range(mean.shape[0]):\n",
    "        den=(((2*np.pi)**mean.shape[1])*np.linalg.det(variance[i]))**0.5\n",
    "        output[i]=np.exp(-0.5*np.sum(np.matmul((inp-mean[i]),np.linalg.inv(variance[i]))*(inp-mean[i]),1))/den\n",
    "    return np.transpose(output)"
   ]
  },
  {
   "cell_type": "code",
   "execution_count": 503,
   "metadata": {},
   "outputs": [],
   "source": [
    "weights=np.zeros((len(traindata),noofgaussians),dtype=np.float64)\n",
    "means=np.zeros((len(traindata),noofgaussians,38),dtype=np.float64)\n",
    "var=np.zeros((len(traindata),noofgaussians,38,38),dtype=np.float64)"
   ]
  },
  {
   "cell_type": "code",
   "execution_count": 667,
   "metadata": {},
   "outputs": [],
   "source": [
    "def gmmtrain(traindata):\n",
    "    weights=np.zeros((len(traindata),noofgaussians),dtype=np.float64)\n",
    "    means=np.zeros((len(traindata),noofgaussians,38),dtype=np.float64)\n",
    "    var=np.zeros((len(traindata),noofgaussians,38,38),dtype=np.float64)\n",
    "    for i in range(len(traindata)):\n",
    "        weights[i],means[i],var[i]=vqinitializer(traindata[i])\n",
    "        if(np.isnan(weights[i]).any()==1 or np.isnan(means[i]).any()==1 or np.isnan(var[i]).any()==1):\n",
    "            print(\"hey\", i)\n",
    "        # EM Algorithm \n",
    "        for iter in range(10):\n",
    "\n",
    "            # E-Step\n",
    "            go=gaussian(traindata[i],means[i],var[i])\n",
    "            gamma=weights[i]*go\n",
    "            gammaden=np.sum(gamma,1)\n",
    "            gamma=gamma/gammaden[:,None]\n",
    "            nk=np.sum(gamma,0)\n",
    "            \n",
    "            \n",
    "#             if((0 in nk) or (0 in gammaden)):\n",
    "#                 print(go)\n",
    "            \n",
    "            \n",
    "            #M-Step\n",
    "            weights[i]=nk/gamma.shape[0]\n",
    "            means[i]=np.matmul(np.transpose(gamma),traindata[i])/nk[:,None]\n",
    "            var[i]=np.zeros((noofgaussians,38,38))\n",
    "            \n",
    "#             if(np.isnan(weights[i]).any()==1 or np.isnan(means[i]).any()==1 or np.isnan(var[i]).any()==1):\n",
    "#                 print(i,\"Iter\",iter)\n",
    "                \n",
    "            for j in range(var[i].shape[0]):\n",
    "                for k in range(traindata[i].shape[0]):\n",
    "                    c=np.matmul(np.transpose((traindata[i][k]-means[i][j]).reshape(1,38)),(traindata[i][k]-means[i][j]).reshape(1,38))*gamma[k,j]/nk[j]\n",
    "                    var[i][j]+=np.diag(np.diag(c))\n",
    "                    \n",
    "#             if(np.isnan(weights[i]).any()==1 or np.isnan(means[i]).any()==1 or np.isnan(var[i]).any()==1):\n",
    "#                 print(i,\"Iter\",iter)\n",
    "                \n",
    "        print(np.sum(weights[i]),np.sum(means[i]),np.sum(var[i]))\n",
    "    return weights,means,var\n",
    "\n",
    "#weights[0:10],means[0:10],var[0:10]=gmmtrain(traindata[0:10])"
   ]
  },
  {
   "cell_type": "code",
   "execution_count": 639,
   "metadata": {},
   "outputs": [
    {
     "name": "stdout",
     "output_type": "stream",
     "text": [
      "0.9999999999999999 13.28794151957442 512.7026451091558\n"
     ]
    }
   ],
   "source": [
    "w=104\n",
    "weights[w],means[w],var[w]=gmmtrain(traindata[w:w+1]) #50:100 100:125 125:150 150:175 "
   ]
  },
  {
   "cell_type": "code",
   "execution_count": 660,
   "metadata": {},
   "outputs": [
    {
     "name": "stdout",
     "output_type": "stream",
     "text": [
      "198\n",
      "1.0 33.82763600012104 494.18792656441815\n",
      "199\n",
      "1.0 8.83763684875867 515.5421565171943\n"
     ]
    }
   ],
   "source": [
    "for i in range(198,200):\n",
    "    print(i)\n",
    "    x=0\n",
    "    while(x==0):\n",
    "        weights[i],means[i],var[i]=gmmtrain(traindata[i:i+1])\n",
    "        if(np.isnan(weights[i]).any()==1 or np.isnan(means[i]).any()==1 or np.isnan(var[i]).any()==1):\n",
    "            x=0\n",
    "        else:\n",
    "            x=1"
   ]
  },
  {
   "cell_type": "code",
   "execution_count": 546,
   "metadata": {},
   "outputs": [],
   "source": [
    "if(np.isnan(weights).any()==1 or np.isnan(means).any()==1 or np.isnan(var).any()==1):\n",
    "    print(1)"
   ]
  },
  {
   "cell_type": "code",
   "execution_count": 464,
   "metadata": {},
   "outputs": [],
   "source": [
    "si=1\n",
    "for speaker in speakernames:\n",
    "    fol=\"/home/saik/Semester 6/CS6300/Mini Project 1/SpeakerFeatures/timidtest/\"+speaker\n",
    "    newfile=\"/home/saik/Semester 6/CS6300/Mini Project 1/SpeakerFeatures/ntest/\"+str(si)+\".mfcc\"\n",
    "    si+=1\n",
    "    w=open(newfile,'w')\n",
    "    for file in os.listdir(fol):\n",
    "        fn=fol+\"/\"+file\n",
    "        f=open(fn,\"r\")\n",
    "        i=0\n",
    "        for line in f:\n",
    "            if(i==0):\n",
    "                i=1\n",
    "            else:\n",
    "                w.write(line)\n",
    "        f.close()\n",
    "    w.close() \n",
    "\n",
    "si=1\n",
    "for speaker in speakernames:\n",
    "    fol=\"/home/saik/Semester 6/CS6300/Mini Project 1/SpeakerFeatures/ntimidtest/\"+speaker\n",
    "    newfile=\"/home/saik/Semester 6/CS6300/Mini Project 1/SpeakerFeatures/ttest/\"+str(si)+\".mfcc\"\n",
    "    si+=1\n",
    "    w=open(newfile,'a')\n",
    "    for file in os.listdir(fol):\n",
    "        fn=fol+\"/\"+file\n",
    "        f=open(fn,\"r\")\n",
    "        i=0\n",
    "        for line in f:\n",
    "            if(i==0):\n",
    "                i=1\n",
    "            else:\n",
    "                w.write(line)\n",
    "        f.close()\n",
    "    w.close() "
   ]
  },
  {
   "cell_type": "code",
   "execution_count": 468,
   "metadata": {},
   "outputs": [],
   "source": [
    "testdatat=[]\n",
    "for i in range(1,201):\n",
    "    onespeaker=[]\n",
    "    file=\"/home/saik/Semester 6/CS6300/Mini Project 1/SpeakerFeatures/ttest/\"+str(i)+\".mfcc\"\n",
    "    f=open(file,'r')\n",
    "    for line in f:\n",
    "        a=line.split()\n",
    "        a = list(map(float, a)) \n",
    "        onespeaker.append(a)\n",
    "    testdatat.append(np.asarray(onespeaker))\n",
    "    f.close()\n",
    "    if(np.isnan(onespeaker).any()==1):\n",
    "        print(len(onespeaker))"
   ]
  },
  {
   "cell_type": "code",
   "execution_count": 469,
   "metadata": {},
   "outputs": [],
   "source": [
    "testdatatn=[]\n",
    "for i in range(1,201):\n",
    "    onespeaker=[]\n",
    "    file=\"/home/saik/Semester 6/CS6300/Mini Project 1/SpeakerFeatures/ntest/\"+str(i)+\".mfcc\"\n",
    "    f=open(file,'r')\n",
    "    for line in f:\n",
    "        a=line.split()\n",
    "        a = list(map(float, a)) \n",
    "        onespeaker.append(a)\n",
    "    testdatatn.append(np.asarray(onespeaker))\n",
    "    f.close()\n",
    "    if(np.isnan(onespeaker).any()==1):\n",
    "        print(len(onespeaker))"
   ]
  },
  {
   "cell_type": "code",
   "execution_count": 472,
   "metadata": {},
   "outputs": [],
   "source": [
    "testdata=[]\n",
    "for i in range(1,201):\n",
    "    onespeaker=[]\n",
    "    file=\"/home/saik/Semester 6/CS6300/Mini Project 1/SpeakerFeatures/test/\"+str(i)+\".mfcc\"\n",
    "    f=open(file,'r')\n",
    "    for line in f:\n",
    "        a=line.split()\n",
    "        a = list(map(float, a)) \n",
    "        onespeaker.append(a)\n",
    "    testdata.append(np.asarray(onespeaker))\n",
    "    f.close()\n",
    "    if(np.isnan(onespeaker).any()==1):\n",
    "        print(len(onespeaker))"
   ]
  },
  {
   "cell_type": "code",
   "execution_count": 461,
   "metadata": {},
   "outputs": [],
   "source": [
    "def gscore(inp,weights,means,var):\n",
    "    pred=np.zeros((means.shape[0],len(inp)))\n",
    "    for i in range(means.shape[0]):\n",
    "        output=np.zeros((means.shape[1],len(inp)))\n",
    "        for j in range(means.shape[1]):\n",
    "            den=(((2*np.pi)**means[i].shape[1])*np.linalg.det(var[i][j]))**0.5\n",
    "            output[j]=np.exp(-0.5*np.sum(np.matmul((inp-means[i][j]),np.linalg.inv(var[i][j]))*(inp-means[i][j]),1))/den\n",
    "        pred[i]=np.sum((output*weights[i][:,None]),0)\n",
    "    p=np.argmax(pred,0)\n",
    "    counts = np.bincount(p)\n",
    "    return np.argmax(counts)"
   ]
  },
  {
   "cell_type": "code",
   "execution_count": 670,
   "metadata": {},
   "outputs": [
    {
     "name": "stdout",
     "output_type": "stream",
     "text": [
      "0 64\n",
      "0.0\n"
     ]
    }
   ],
   "source": [
    "def gmmtest(testdata):\n",
    "    s=0\n",
    "    for i in range(len(testdata)):\n",
    "        pred=gscore(testdata[i],weights,means,var)\n",
    "        if(pred==i):\n",
    "            s+=1\n",
    "        print(i,pred)\n",
    "    print(s/len(testdata))\n",
    "gmmtest(testdata[0:1])\n",
    "           "
   ]
  },
  {
   "cell_type": "code",
   "execution_count": 669,
   "metadata": {},
   "outputs": [
    {
     "name": "stdout",
     "output_type": "stream",
     "text": [
      "1.0 0.8679554496775417 521.8696247673721\n"
     ]
    }
   ],
   "source": [
    "w=0\n",
    "weights[w],means[w],var[w]=gmmtrain(traindata[w:w+1])"
   ]
  }
 ],
 "metadata": {
  "kernelspec": {
   "display_name": "Python 3",
   "language": "python",
   "name": "python3"
  },
  "language_info": {
   "codemirror_mode": {
    "name": "ipython",
    "version": 3
   },
   "file_extension": ".py",
   "mimetype": "text/x-python",
   "name": "python",
   "nbconvert_exporter": "python",
   "pygments_lexer": "ipython3",
   "version": "3.6.9"
  }
 },
 "nbformat": 4,
 "nbformat_minor": 4
}
